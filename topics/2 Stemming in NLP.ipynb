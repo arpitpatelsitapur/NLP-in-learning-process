{
 "cells": [
  {
   "cell_type": "code",
   "execution_count": 1,
   "id": "1635bb50",
   "metadata": {},
   "outputs": [],
   "source": [
    "import nltk"
   ]
  },
  {
   "cell_type": "code",
   "execution_count": 2,
   "id": "f154279b",
   "metadata": {},
   "outputs": [],
   "source": [
    "words=['eats','eating','eaten','going','killer','cooling']"
   ]
  },
  {
   "cell_type": "markdown",
   "id": "73af464c",
   "metadata": {},
   "source": [
    "# PorterStemmer"
   ]
  },
  {
   "cell_type": "code",
   "execution_count": 3,
   "id": "4c834cf9",
   "metadata": {},
   "outputs": [
    {
     "name": "stdout",
     "output_type": "stream",
     "text": [
      "eats-->eat\n",
      "eating-->eat\n",
      "eaten-->eaten\n",
      "going-->go\n",
      "killer-->killer\n",
      "cooling-->cool\n"
     ]
    }
   ],
   "source": [
    "for word in words:\n",
    "    print(word+'-->'+nltk.stem.PorterStemmer().stem(word))"
   ]
  },
  {
   "cell_type": "markdown",
   "id": "cfe965f9",
   "metadata": {},
   "source": [
    "# RegexpStemmer"
   ]
  },
  {
   "cell_type": "code",
   "execution_count": 4,
   "id": "06068e84",
   "metadata": {},
   "outputs": [
    {
     "name": "stdout",
     "output_type": "stream",
     "text": [
      "eats-->eats\n",
      "eating-->eat\n",
      "eaten-->eaten\n",
      "going-->go\n",
      "killer-->kill\n",
      "cooling-->cool\n"
     ]
    }
   ],
   "source": [
    "for word in words:\n",
    "    print(word+'-->'+nltk.stem.RegexpStemmer('ing$|er$|ies&').stem(word))"
   ]
  },
  {
   "cell_type": "markdown",
   "id": "01e50fa3",
   "metadata": {},
   "source": [
    "# SnowballStemmer"
   ]
  },
  {
   "cell_type": "code",
   "execution_count": 5,
   "id": "afd64379",
   "metadata": {},
   "outputs": [
    {
     "name": "stdout",
     "output_type": "stream",
     "text": [
      "eats-->eat\n",
      "eating-->eat\n",
      "eaten-->eaten\n",
      "going-->go\n",
      "killer-->killer\n",
      "cooling-->cool\n"
     ]
    }
   ],
   "source": [
    "for word in words:\n",
    "    print(word+'-->'+nltk.stem.SnowballStemmer('english').stem(word))"
   ]
  },
  {
   "cell_type": "markdown",
   "id": "d54dba0c",
   "metadata": {},
   "source": [
    "# Sometimes `PorterStemmer` does not work......."
   ]
  },
  {
   "cell_type": "code",
   "execution_count": 6,
   "id": "fcfb4cdf",
   "metadata": {},
   "outputs": [
    {
     "data": {
      "text/plain": [
       "'congratul'"
      ]
     },
     "execution_count": 6,
     "metadata": {},
     "output_type": "execute_result"
    }
   ],
   "source": [
    "nltk.stem.PorterStemmer().stem('congratulations')"
   ]
  },
  {
   "cell_type": "markdown",
   "id": "a2e1f734",
   "metadata": {},
   "source": [
    "# Advantage of `SnowballStemmer` over `PorterStemmer`....."
   ]
  },
  {
   "cell_type": "code",
   "execution_count": 7,
   "id": "2c622acd",
   "metadata": {},
   "outputs": [
    {
     "data": {
      "text/plain": [
       "'fairli'"
      ]
     },
     "execution_count": 7,
     "metadata": {},
     "output_type": "execute_result"
    }
   ],
   "source": [
    "nltk.stem.PorterStemmer().stem('fairly')"
   ]
  },
  {
   "cell_type": "code",
   "execution_count": 8,
   "id": "0617c77d",
   "metadata": {},
   "outputs": [
    {
     "data": {
      "text/plain": [
       "'fair'"
      ]
     },
     "execution_count": 8,
     "metadata": {},
     "output_type": "execute_result"
    }
   ],
   "source": [
    "nltk.stem.SnowballStemmer('english').stem('fairly')"
   ]
  },
  {
   "cell_type": "code",
   "execution_count": null,
   "id": "5f360099",
   "metadata": {},
   "outputs": [],
   "source": []
  }
 ],
 "metadata": {
  "kernelspec": {
   "display_name": "Python 3 (ipykernel)",
   "language": "python",
   "name": "python3"
  },
  "language_info": {
   "codemirror_mode": {
    "name": "ipython",
    "version": 3
   },
   "file_extension": ".py",
   "mimetype": "text/x-python",
   "name": "python",
   "nbconvert_exporter": "python",
   "pygments_lexer": "ipython3",
   "version": "3.11.5"
  }
 },
 "nbformat": 4,
 "nbformat_minor": 5
}
