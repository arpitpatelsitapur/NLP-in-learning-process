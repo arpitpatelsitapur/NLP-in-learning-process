{
 "cells": [
  {
   "cell_type": "markdown",
   "metadata": {
    "id": "Gnhe1Pk7-i9b"
   },
   "source": [
    "# Install **NLTK**"
   ]
  },
  {
   "cell_type": "code",
   "execution_count": 1,
   "metadata": {
    "colab": {
     "base_uri": "https://localhost:8080/"
    },
    "id": "F3aMkWGE8gPp",
    "outputId": "0658673c-5f46-4586-8a33-f6c8daf9dbef"
   },
   "outputs": [
    {
     "name": "stdout",
     "output_type": "stream",
     "text": [
      "Requirement already satisfied: nltk in /usr/local/lib/python3.10/dist-packages (3.8.1)\n",
      "Requirement already satisfied: click in /usr/local/lib/python3.10/dist-packages (from nltk) (8.1.7)\n",
      "Requirement already satisfied: joblib in /usr/local/lib/python3.10/dist-packages (from nltk) (1.3.2)\n",
      "Requirement already satisfied: regex>=2021.8.3 in /usr/local/lib/python3.10/dist-packages (from nltk) (2023.12.25)\n",
      "Requirement already satisfied: tqdm in /usr/local/lib/python3.10/dist-packages (from nltk) (4.66.2)\n"
     ]
    }
   ],
   "source": [
    "!pip install nltk"
   ]
  },
  {
   "cell_type": "code",
   "execution_count": 2,
   "metadata": {
    "colab": {
     "base_uri": "https://localhost:8080/"
    },
    "id": "tIpvQ1Ny951J",
    "outputId": "6fcc8399-68a8-4ecb-ef4c-12b1e95997c8"
   },
   "outputs": [
    {
     "name": "stderr",
     "output_type": "stream",
     "text": [
      "[nltk_data] Downloading package punkt to /root/nltk_data...\n",
      "[nltk_data]   Package punkt is already up-to-date!\n"
     ]
    },
    {
     "data": {
      "text/plain": [
       "True"
      ]
     },
     "execution_count": 2,
     "metadata": {},
     "output_type": "execute_result"
    }
   ],
   "source": [
    "import nltk\n",
    "nltk.download('punkt')"
   ]
  },
  {
   "cell_type": "markdown",
   "metadata": {
    "id": "TthBMxAQ-u9G"
   },
   "source": [
    "# Create **Corpus**\n",
    "- corpus is just a `Paragraph`."
   ]
  },
  {
   "cell_type": "code",
   "execution_count": 3,
   "metadata": {
    "id": "nOzti8Zk9MDt"
   },
   "outputs": [],
   "source": [
    "corpus=\"\"\"Hello, my name is Arpit and I am currently learning NLP's Tokenization.\n",
    "I have interest in ML and AI.\n",
    "\"\"\""
   ]
  },
  {
   "cell_type": "markdown",
   "metadata": {
    "id": "sTr23y4P_dTC"
   },
   "source": [
    "# **Tokenization**\n",
    "- Process to `convert either paragraph or sentance into tokens`.\n",
    "- **Documents** -`sentences`\n",
    "- **Corpus** - `paragraph`\n",
    "- **Vocabulary** - `unique words`\n",
    "- **words**\n",
    "\n",
    "## **1. Sentence Tokenizer**\n",
    "- paragraph -> sentence\n",
    "- `sent_tokenize(corpus)`\n",
    "\n",
    "## **2. Word Tokenizer**\n",
    "- paragraph -> word\n",
    "- sentence -> word\n",
    "- `word_tokenize(corpus)`\n",
    "\n",
    "## **3. WordPunct Tokenizer**\n",
    "- paragraph -> words with seperated punctuators\n",
    "- `wordpunct_tokenize(corpus)`\n",
    "\n",
    "## **4. TreeBankWord Tokenizer**\n",
    "- paragraph -> words\n",
    "- only last punctuator(full stop etc.) is tokenized.\n",
    "- `TreebankWordTokenizer().tokenize(corpus)`"
   ]
  },
  {
   "cell_type": "code",
   "execution_count": 4,
   "metadata": {
    "colab": {
     "base_uri": "https://localhost:8080/"
    },
    "id": "B9cNtQKr87ZS",
    "outputId": "100b4993-fb83-4700-cd1f-ebe682da9e76"
   },
   "outputs": [
    {
     "name": "stdout",
     "output_type": "stream",
     "text": [
      "[\"Hello, my name is Arpit and I am currently learning NLP's Tokenization.\", 'I have interest in ML and AI.']\n"
     ]
    }
   ],
   "source": [
    "from nltk.tokenize import sent_tokenize\n",
    "print(sent_tokenize(corpus))"
   ]
  },
  {
   "cell_type": "code",
   "execution_count": 5,
   "metadata": {
    "colab": {
     "base_uri": "https://localhost:8080/"
    },
    "id": "GbaN6jAQ9u_V",
    "outputId": "29fb9e1b-56e7-44e2-8190-1fd8c65f843a"
   },
   "outputs": [
    {
     "name": "stdout",
     "output_type": "stream",
     "text": [
      "['Hello', ',', 'my', 'name', 'is', 'Arpit', 'and', 'I', 'am', 'currently', 'learning', 'NLP', \"'s\", 'Tokenization', '.', 'I', 'have', 'interest', 'in', 'ML', 'and', 'AI', '.']\n"
     ]
    }
   ],
   "source": [
    "from nltk.tokenize import word_tokenize\n",
    "print(word_tokenize(corpus))"
   ]
  },
  {
   "cell_type": "code",
   "execution_count": 6,
   "metadata": {
    "colab": {
     "base_uri": "https://localhost:8080/"
    },
    "id": "KxHxkEbL-IvH",
    "outputId": "e5610bc9-7ee1-47cf-8ad7-098d120d98c4"
   },
   "outputs": [
    {
     "name": "stdout",
     "output_type": "stream",
     "text": [
      "['Hello', ',', 'my', 'name', 'is', 'Arpit', 'and', 'I', 'am', 'currently', 'learning', 'NLP', \"'s\", 'Tokenization.', 'I', 'have', 'interest', 'in', 'ML', 'and', 'AI', '.']\n"
     ]
    }
   ],
   "source": [
    "from nltk.tokenize import TreebankWordTokenizer\n",
    "tokenizer=TreebankWordTokenizer()\n",
    "print(tokenizer.tokenize(corpus))"
   ]
  },
  {
   "cell_type": "code",
   "execution_count": 7,
   "metadata": {
    "colab": {
     "base_uri": "https://localhost:8080/"
    },
    "id": "2_JK3ngmEaAq",
    "outputId": "b670e193-e175-4a05-d722-fd0b69e50a29"
   },
   "outputs": [
    {
     "name": "stdout",
     "output_type": "stream",
     "text": [
      "['Hello', ',', 'my', 'name', 'is', 'Arpit', 'and', 'I', 'am', 'currently', 'learning', 'NLP', \"'\", 's', 'Tokenization', '.', 'I', 'have', 'interest', 'in', 'ML', 'and', 'AI', '.']\n"
     ]
    }
   ],
   "source": [
    "from nltk.tokenize import wordpunct_tokenize\n",
    "print(wordpunct_tokenize(corpus))"
   ]
  }
 ],
 "metadata": {
  "colab": {
   "provenance": []
  },
  "kernelspec": {
   "display_name": "Python 3 (ipykernel)",
   "language": "python",
   "name": "python3"
  },
  "language_info": {
   "codemirror_mode": {
    "name": "ipython",
    "version": 3
   },
   "file_extension": ".py",
   "mimetype": "text/x-python",
   "name": "python",
   "nbconvert_exporter": "python",
   "pygments_lexer": "ipython3",
   "version": "3.11.5"
  }
 },
 "nbformat": 4,
 "nbformat_minor": 1
}
