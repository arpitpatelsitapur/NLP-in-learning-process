{
 "cells": [
  {
   "cell_type": "code",
   "execution_count": 1,
   "id": "c1198854",
   "metadata": {},
   "outputs": [
    {
     "name": "stderr",
     "output_type": "stream",
     "text": [
      "[nltk_data] Downloading package wordnet to\n",
      "[nltk_data]     /Users/arpitpatel/nltk_data...\n"
     ]
    },
    {
     "data": {
      "text/plain": [
       "True"
      ]
     },
     "execution_count": 1,
     "metadata": {},
     "output_type": "execute_result"
    }
   ],
   "source": [
    "import nltk\n",
    "nltk.download('wordnet')"
   ]
  },
  {
   "cell_type": "code",
   "execution_count": 2,
   "id": "ccf491e7",
   "metadata": {},
   "outputs": [],
   "source": [
    "words=['eats','eating','eaten','going','killer','cooling']"
   ]
  },
  {
   "cell_type": "markdown",
   "id": "2f39cde9",
   "metadata": {},
   "source": [
    "# WordNetLemmatizer\n",
    "- `nltk.stem.WordNetLemmatizer.lemmatize(word: str, pos: str = 'n') `\n",
    "- pos='n' ---> noun\n",
    "- pos='v' ---> verb\n",
    "- pos='a' ---> adjective\n",
    "- pos='r' ---> adverb"
   ]
  },
  {
   "cell_type": "code",
   "execution_count": 9,
   "id": "1e20fe84",
   "metadata": {},
   "outputs": [
    {
     "name": "stdout",
     "output_type": "stream",
     "text": [
      "eats-->eat\n",
      "eating-->eat\n",
      "eaten-->eat\n",
      "going-->go\n",
      "killer-->killer\n",
      "cooling-->cool\n"
     ]
    }
   ],
   "source": [
    "for word in words:\n",
    "    print(word+'-->'+nltk.stem.WordNetLemmatizer().lemmatize(word,pos='v'))"
   ]
  },
  {
   "cell_type": "code",
   "execution_count": 7,
   "id": "312e92db",
   "metadata": {},
   "outputs": [
    {
     "data": {
      "text/plain": [
       "'going'"
      ]
     },
     "execution_count": 7,
     "metadata": {},
     "output_type": "execute_result"
    }
   ],
   "source": [
    "nltk.stem.WordNetLemmatizer().lemmatize('going')"
   ]
  },
  {
   "cell_type": "code",
   "execution_count": 5,
   "id": "fa7f0f5a",
   "metadata": {},
   "outputs": [
    {
     "data": {
      "text/plain": [
       "'go'"
      ]
     },
     "execution_count": 5,
     "metadata": {},
     "output_type": "execute_result"
    }
   ],
   "source": [
    "nltk.stem.WordNetLemmatizer().lemmatize('goes',pos='v')"
   ]
  },
  {
   "cell_type": "code",
   "execution_count": 10,
   "id": "a6edc178",
   "metadata": {},
   "outputs": [
    {
     "data": {
      "text/plain": [
       "'congratulations'"
      ]
     },
     "execution_count": 10,
     "metadata": {},
     "output_type": "execute_result"
    }
   ],
   "source": [
    "nltk.stem.WordNetLemmatizer().lemmatize('congratulations',pos='v')"
   ]
  },
  {
   "cell_type": "code",
   "execution_count": null,
   "id": "1967d530",
   "metadata": {},
   "outputs": [],
   "source": []
  }
 ],
 "metadata": {
  "kernelspec": {
   "display_name": "Python 3 (ipykernel)",
   "language": "python",
   "name": "python3"
  },
  "language_info": {
   "codemirror_mode": {
    "name": "ipython",
    "version": 3
   },
   "file_extension": ".py",
   "mimetype": "text/x-python",
   "name": "python",
   "nbconvert_exporter": "python",
   "pygments_lexer": "ipython3",
   "version": "3.11.5"
  }
 },
 "nbformat": 4,
 "nbformat_minor": 5
}
