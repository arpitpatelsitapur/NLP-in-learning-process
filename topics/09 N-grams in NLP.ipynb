{
 "cells": [
  {
   "cell_type": "code",
   "execution_count": 1,
   "id": "78a518ff",
   "metadata": {},
   "outputs": [],
   "source": [
    "import pandas as pd\n",
    "data = {'Text': ['campusx watch campusx', 'people watch campusx', 'people write comment', 'campusx write comment'],\n",
    "        'output': [1, 1, 0, 0]}\n",
    "\n",
    "df = pd.DataFrame(data)"
   ]
  },
  {
   "cell_type": "code",
   "execution_count": 2,
   "id": "7be3f820",
   "metadata": {},
   "outputs": [
    {
     "data": {
      "text/html": [
       "<div>\n",
       "<style scoped>\n",
       "    .dataframe tbody tr th:only-of-type {\n",
       "        vertical-align: middle;\n",
       "    }\n",
       "\n",
       "    .dataframe tbody tr th {\n",
       "        vertical-align: top;\n",
       "    }\n",
       "\n",
       "    .dataframe thead th {\n",
       "        text-align: right;\n",
       "    }\n",
       "</style>\n",
       "<table border=\"1\" class=\"dataframe\">\n",
       "  <thead>\n",
       "    <tr style=\"text-align: right;\">\n",
       "      <th></th>\n",
       "      <th>Text</th>\n",
       "      <th>output</th>\n",
       "    </tr>\n",
       "  </thead>\n",
       "  <tbody>\n",
       "    <tr>\n",
       "      <th>0</th>\n",
       "      <td>campusx watch campusx</td>\n",
       "      <td>1</td>\n",
       "    </tr>\n",
       "    <tr>\n",
       "      <th>1</th>\n",
       "      <td>people watch campusx</td>\n",
       "      <td>1</td>\n",
       "    </tr>\n",
       "    <tr>\n",
       "      <th>2</th>\n",
       "      <td>people write comment</td>\n",
       "      <td>0</td>\n",
       "    </tr>\n",
       "    <tr>\n",
       "      <th>3</th>\n",
       "      <td>campusx write comment</td>\n",
       "      <td>0</td>\n",
       "    </tr>\n",
       "  </tbody>\n",
       "</table>\n",
       "</div>"
      ],
      "text/plain": [
       "                    Text  output\n",
       "0  campusx watch campusx       1\n",
       "1   people watch campusx       1\n",
       "2   people write comment       0\n",
       "3  campusx write comment       0"
      ]
     },
     "execution_count": 2,
     "metadata": {},
     "output_type": "execute_result"
    }
   ],
   "source": [
    "df"
   ]
  },
  {
   "cell_type": "code",
   "execution_count": 3,
   "id": "6e8f5553",
   "metadata": {},
   "outputs": [],
   "source": [
    "from sklearn.feature_extraction.text import CountVectorizer"
   ]
  },
  {
   "cell_type": "markdown",
   "id": "ffc44812",
   "metadata": {},
   "source": [
    "## set hyper parameter ngram_range=(x,y)"
   ]
  },
  {
   "cell_type": "markdown",
   "id": "630d550a",
   "metadata": {},
   "source": [
    "# 1. Unigram"
   ]
  },
  {
   "cell_type": "code",
   "execution_count": 7,
   "id": "a5347010",
   "metadata": {},
   "outputs": [
    {
     "data": {
      "text/plain": [
       "{'campusx': 0, 'watch': 3, 'people': 2, 'write': 4, 'comment': 1}"
      ]
     },
     "execution_count": 7,
     "metadata": {},
     "output_type": "execute_result"
    }
   ],
   "source": [
    "cv=CountVectorizer(ngram_range=(1,1))\n",
    "bow=cv.fit_transform(df['Text'])\n",
    "cv.vocabulary_"
   ]
  },
  {
   "cell_type": "code",
   "execution_count": 8,
   "id": "b7b72e07",
   "metadata": {},
   "outputs": [
    {
     "data": {
      "text/plain": [
       "array([[2, 0, 0, 1, 0],\n",
       "       [1, 0, 1, 1, 0],\n",
       "       [0, 1, 1, 0, 1],\n",
       "       [1, 1, 0, 0, 1]])"
      ]
     },
     "execution_count": 8,
     "metadata": {},
     "output_type": "execute_result"
    }
   ],
   "source": [
    "bow.toarray()"
   ]
  },
  {
   "cell_type": "markdown",
   "id": "8cfd115b",
   "metadata": {},
   "source": [
    "# 2. Bigram"
   ]
  },
  {
   "cell_type": "code",
   "execution_count": 11,
   "id": "72744fe9",
   "metadata": {},
   "outputs": [
    {
     "data": {
      "text/plain": [
       "{'campusx watch': 0,\n",
       " 'watch campusx': 4,\n",
       " 'people watch': 2,\n",
       " 'people write': 3,\n",
       " 'write comment': 5,\n",
       " 'campusx write': 1}"
      ]
     },
     "execution_count": 11,
     "metadata": {},
     "output_type": "execute_result"
    }
   ],
   "source": [
    "cv=CountVectorizer(ngram_range=(2,2))\n",
    "bow=cv.fit_transform(df['Text'])\n",
    "cv.vocabulary_"
   ]
  },
  {
   "cell_type": "code",
   "execution_count": 12,
   "id": "f6090427",
   "metadata": {},
   "outputs": [
    {
     "data": {
      "text/plain": [
       "array([[1, 0, 0, 0, 1, 0],\n",
       "       [0, 0, 1, 0, 1, 0],\n",
       "       [0, 0, 0, 1, 0, 1],\n",
       "       [0, 1, 0, 0, 0, 1]])"
      ]
     },
     "execution_count": 12,
     "metadata": {},
     "output_type": "execute_result"
    }
   ],
   "source": [
    "bow.toarray()"
   ]
  },
  {
   "cell_type": "markdown",
   "id": "2be4da50",
   "metadata": {},
   "source": [
    "# 3. Trigram"
   ]
  },
  {
   "cell_type": "code",
   "execution_count": 13,
   "id": "6d409829",
   "metadata": {},
   "outputs": [
    {
     "data": {
      "text/plain": [
       "{'campusx watch campusx': 0,\n",
       " 'people watch campusx': 2,\n",
       " 'people write comment': 3,\n",
       " 'campusx write comment': 1}"
      ]
     },
     "execution_count": 13,
     "metadata": {},
     "output_type": "execute_result"
    }
   ],
   "source": [
    "cv=CountVectorizer(ngram_range=(3,3))\n",
    "bow=cv.fit_transform(df['Text'])\n",
    "cv.vocabulary_"
   ]
  },
  {
   "cell_type": "code",
   "execution_count": 14,
   "id": "4496c324",
   "metadata": {},
   "outputs": [
    {
     "data": {
      "text/plain": [
       "array([[1, 0, 0, 0],\n",
       "       [0, 0, 1, 0],\n",
       "       [0, 0, 0, 1],\n",
       "       [0, 1, 0, 0]])"
      ]
     },
     "execution_count": 14,
     "metadata": {},
     "output_type": "execute_result"
    }
   ],
   "source": [
    "bow.toarray()"
   ]
  },
  {
   "cell_type": "markdown",
   "id": "544d6f05",
   "metadata": {},
   "source": [
    "# mix up of n-grams"
   ]
  },
  {
   "cell_type": "code",
   "execution_count": 15,
   "id": "6989b566",
   "metadata": {},
   "outputs": [
    {
     "data": {
      "text/plain": [
       "{'campusx': 0,\n",
       " 'watch': 7,\n",
       " 'campusx watch': 1,\n",
       " 'watch campusx': 8,\n",
       " 'people': 4,\n",
       " 'people watch': 5,\n",
       " 'write': 9,\n",
       " 'comment': 3,\n",
       " 'people write': 6,\n",
       " 'write comment': 10,\n",
       " 'campusx write': 2}"
      ]
     },
     "execution_count": 15,
     "metadata": {},
     "output_type": "execute_result"
    }
   ],
   "source": [
    "cv=CountVectorizer(ngram_range=(1,2))\n",
    "bow=cv.fit_transform(df['Text'])\n",
    "cv.vocabulary_"
   ]
  },
  {
   "cell_type": "code",
   "execution_count": 16,
   "id": "3d3b5032",
   "metadata": {},
   "outputs": [
    {
     "data": {
      "text/plain": [
       "{'campusx': 0,\n",
       " 'watch': 11,\n",
       " 'campusx watch': 1,\n",
       " 'watch campusx': 12,\n",
       " 'campusx watch campusx': 2,\n",
       " 'people': 6,\n",
       " 'people watch': 7,\n",
       " 'people watch campusx': 8,\n",
       " 'write': 13,\n",
       " 'comment': 5,\n",
       " 'people write': 9,\n",
       " 'write comment': 14,\n",
       " 'people write comment': 10,\n",
       " 'campusx write': 3,\n",
       " 'campusx write comment': 4}"
      ]
     },
     "execution_count": 16,
     "metadata": {},
     "output_type": "execute_result"
    }
   ],
   "source": [
    "cv=CountVectorizer(ngram_range=(1,3))\n",
    "bow=cv.fit_transform(df['Text'])\n",
    "cv.vocabulary_"
   ]
  },
  {
   "cell_type": "code",
   "execution_count": 17,
   "id": "7d93ad57",
   "metadata": {},
   "outputs": [
    {
     "data": {
      "text/plain": [
       "{'campusx watch': 0,\n",
       " 'watch campusx': 8,\n",
       " 'campusx watch campusx': 1,\n",
       " 'people watch': 4,\n",
       " 'people watch campusx': 5,\n",
       " 'people write': 6,\n",
       " 'write comment': 9,\n",
       " 'people write comment': 7,\n",
       " 'campusx write': 2,\n",
       " 'campusx write comment': 3}"
      ]
     },
     "execution_count": 17,
     "metadata": {},
     "output_type": "execute_result"
    }
   ],
   "source": [
    "cv=CountVectorizer(ngram_range=(2,3))\n",
    "bow=cv.fit_transform(df['Text'])\n",
    "cv.vocabulary_"
   ]
  },
  {
   "cell_type": "markdown",
   "id": "02b766c3",
   "metadata": {},
   "source": [
    "- this is from campusX channel on youtube."
   ]
  }
 ],
 "metadata": {
  "kernelspec": {
   "display_name": "Python 3 (ipykernel)",
   "language": "python",
   "name": "python3"
  },
  "language_info": {
   "codemirror_mode": {
    "name": "ipython",
    "version": 3
   },
   "file_extension": ".py",
   "mimetype": "text/x-python",
   "name": "python",
   "nbconvert_exporter": "python",
   "pygments_lexer": "ipython3",
   "version": "3.11.5"
  }
 },
 "nbformat": 4,
 "nbformat_minor": 5
}
