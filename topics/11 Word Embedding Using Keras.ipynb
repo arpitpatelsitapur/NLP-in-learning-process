{
 "cells": [
  {
   "cell_type": "markdown",
   "id": "29416a5b",
   "metadata": {},
   "source": [
    "- find sentences.\n",
    "- one hot representation -> index from vocab_size\n",
    "- form Embedding matrix in keras using embedding layer(give `dimension` argument)"
   ]
  },
  {
   "cell_type": "code",
   "execution_count": 3,
   "id": "a210bf1a-c594-415e-99ef-faa94492e272",
   "metadata": {},
   "outputs": [],
   "source": [
    "from tensorflow.keras.preprocessing.text import one_hot"
   ]
  },
  {
   "cell_type": "code",
   "execution_count": 4,
   "id": "161a260a-ea21-4c95-b98f-0dacdcc90fee",
   "metadata": {},
   "outputs": [
    {
     "data": {
      "text/plain": [
       "['the glass of milk',\n",
       " 'the glass of water',\n",
       " 'the cup of tea',\n",
       " 'are you a goog developer',\n",
       " 'coding must be understood in good way',\n",
       " 'this looks good']"
      ]
     },
     "execution_count": 4,
     "metadata": {},
     "output_type": "execute_result"
    }
   ],
   "source": [
    "sent=[\n",
    "    'the glass of milk',\n",
    "    'the glass of water',\n",
    "    'the cup of tea',\n",
    "    'are you a goog developer',\n",
    "    'coding must be understood in good way',\n",
    "    'this looks good'\n",
    "]\n",
    "sent"
   ]
  },
  {
   "cell_type": "code",
   "execution_count": 7,
   "id": "d51defaa-0aef-456a-a41b-0f2539164bc8",
   "metadata": {},
   "outputs": [
    {
     "data": {
      "text/plain": [
       "[[114, 890, 845, 183],\n",
       " [114, 890, 845, 552],\n",
       " [114, 106, 845, 840],\n",
       " [515, 950, 343, 162, 271],\n",
       " [564, 37, 198, 242, 292, 541, 316],\n",
       " [427, 583, 541]]"
      ]
     },
     "execution_count": 7,
     "metadata": {},
     "output_type": "execute_result"
    }
   ],
   "source": [
    "vocab_size=1000\n",
    "\n",
    "onehot_repr=[one_hot(words,vocab_size) for words in sent]\n",
    "onehot_repr"
   ]
  },
  {
   "cell_type": "code",
   "execution_count": 8,
   "id": "2881a6ff-3258-4266-9686-572fd863dbd1",
   "metadata": {},
   "outputs": [],
   "source": [
    "from tensorflow.keras.layers import Embedding\n",
    "from tensorflow.keras.preprocessing.sequence import pad_sequences\n",
    "from tensorflow.keras.models import Sequential"
   ]
  },
  {
   "cell_type": "code",
   "execution_count": 9,
   "id": "0a6fa167-94a5-47a2-98ce-1a5fd9bfac76",
   "metadata": {},
   "outputs": [
    {
     "data": {
      "text/plain": [
       "array([[  0,   0,   0,   0,   0,   0, 114, 890, 845, 183],\n",
       "       [  0,   0,   0,   0,   0,   0, 114, 890, 845, 552],\n",
       "       [  0,   0,   0,   0,   0,   0, 114, 106, 845, 840],\n",
       "       [  0,   0,   0,   0,   0, 515, 950, 343, 162, 271],\n",
       "       [  0,   0,   0, 564,  37, 198, 242, 292, 541, 316],\n",
       "       [  0,   0,   0,   0,   0,   0,   0, 427, 583, 541]], dtype=int32)"
      ]
     },
     "execution_count": 9,
     "metadata": {},
     "output_type": "execute_result"
    }
   ],
   "source": [
    "sent_length=10\n",
    "embedded_sent=pad_sequences(onehot_repr,padding='pre',maxlen=sent_length)\n",
    "embedded_sent"
   ]
  },
  {
   "cell_type": "code",
   "execution_count": 12,
   "id": "4b0a6703",
   "metadata": {},
   "outputs": [
    {
     "name": "stdout",
     "output_type": "stream",
     "text": [
      "\u001b[1m1/1\u001b[0m \u001b[32m━━━━━━━━━━━━━━━━━━━━\u001b[0m\u001b[37m\u001b[0m \u001b[1m0s\u001b[0m 61ms/step\n"
     ]
    },
    {
     "data": {
      "text/html": [
       "<pre style=\"white-space:pre;overflow-x:auto;line-height:normal;font-family:Menlo,'DejaVu Sans Mono',consolas,'Courier New',monospace\"><span style=\"font-weight: bold\">Model: \"sequential_2\"</span>\n",
       "</pre>\n"
      ],
      "text/plain": [
       "\u001b[1mModel: \"sequential_2\"\u001b[0m\n"
      ]
     },
     "metadata": {},
     "output_type": "display_data"
    },
    {
     "data": {
      "text/html": [
       "<pre style=\"white-space:pre;overflow-x:auto;line-height:normal;font-family:Menlo,'DejaVu Sans Mono',consolas,'Courier New',monospace\">┏━━━━━━━━━━━━━━━━━━━━━━━━━━━━━━━━━┳━━━━━━━━━━━━━━━━━━━━━━━━┳━━━━━━━━━━━━━━━┓\n",
       "┃<span style=\"font-weight: bold\"> Layer (type)                    </span>┃<span style=\"font-weight: bold\"> Output Shape           </span>┃<span style=\"font-weight: bold\">       Param # </span>┃\n",
       "┡━━━━━━━━━━━━━━━━━━━━━━━━━━━━━━━━━╇━━━━━━━━━━━━━━━━━━━━━━━━╇━━━━━━━━━━━━━━━┩\n",
       "│ embedding_2 (<span style=\"color: #0087ff; text-decoration-color: #0087ff\">Embedding</span>)         │ (<span style=\"color: #00af00; text-decoration-color: #00af00\">6</span>, <span style=\"color: #00af00; text-decoration-color: #00af00\">10</span>, <span style=\"color: #00af00; text-decoration-color: #00af00\">10</span>)            │        <span style=\"color: #00af00; text-decoration-color: #00af00\">10,000</span> │\n",
       "└─────────────────────────────────┴────────────────────────┴───────────────┘\n",
       "</pre>\n"
      ],
      "text/plain": [
       "┏━━━━━━━━━━━━━━━━━━━━━━━━━━━━━━━━━┳━━━━━━━━━━━━━━━━━━━━━━━━┳━━━━━━━━━━━━━━━┓\n",
       "┃\u001b[1m \u001b[0m\u001b[1mLayer (type)                   \u001b[0m\u001b[1m \u001b[0m┃\u001b[1m \u001b[0m\u001b[1mOutput Shape          \u001b[0m\u001b[1m \u001b[0m┃\u001b[1m \u001b[0m\u001b[1m      Param #\u001b[0m\u001b[1m \u001b[0m┃\n",
       "┡━━━━━━━━━━━━━━━━━━━━━━━━━━━━━━━━━╇━━━━━━━━━━━━━━━━━━━━━━━━╇━━━━━━━━━━━━━━━┩\n",
       "│ embedding_2 (\u001b[38;5;33mEmbedding\u001b[0m)         │ (\u001b[38;5;34m6\u001b[0m, \u001b[38;5;34m10\u001b[0m, \u001b[38;5;34m10\u001b[0m)            │        \u001b[38;5;34m10,000\u001b[0m │\n",
       "└─────────────────────────────────┴────────────────────────┴───────────────┘\n"
      ]
     },
     "metadata": {},
     "output_type": "display_data"
    },
    {
     "data": {
      "text/html": [
       "<pre style=\"white-space:pre;overflow-x:auto;line-height:normal;font-family:Menlo,'DejaVu Sans Mono',consolas,'Courier New',monospace\"><span style=\"font-weight: bold\"> Total params: </span><span style=\"color: #00af00; text-decoration-color: #00af00\">10,000</span> (39.06 KB)\n",
       "</pre>\n"
      ],
      "text/plain": [
       "\u001b[1m Total params: \u001b[0m\u001b[38;5;34m10,000\u001b[0m (39.06 KB)\n"
      ]
     },
     "metadata": {},
     "output_type": "display_data"
    },
    {
     "data": {
      "text/html": [
       "<pre style=\"white-space:pre;overflow-x:auto;line-height:normal;font-family:Menlo,'DejaVu Sans Mono',consolas,'Courier New',monospace\"><span style=\"font-weight: bold\"> Trainable params: </span><span style=\"color: #00af00; text-decoration-color: #00af00\">10,000</span> (39.06 KB)\n",
       "</pre>\n"
      ],
      "text/plain": [
       "\u001b[1m Trainable params: \u001b[0m\u001b[38;5;34m10,000\u001b[0m (39.06 KB)\n"
      ]
     },
     "metadata": {},
     "output_type": "display_data"
    },
    {
     "data": {
      "text/html": [
       "<pre style=\"white-space:pre;overflow-x:auto;line-height:normal;font-family:Menlo,'DejaVu Sans Mono',consolas,'Courier New',monospace\"><span style=\"font-weight: bold\"> Non-trainable params: </span><span style=\"color: #00af00; text-decoration-color: #00af00\">0</span> (0.00 B)\n",
       "</pre>\n"
      ],
      "text/plain": [
       "\u001b[1m Non-trainable params: \u001b[0m\u001b[38;5;34m0\u001b[0m (0.00 B)\n"
      ]
     },
     "metadata": {},
     "output_type": "display_data"
    }
   ],
   "source": [
    "dim=10\n",
    "model=Sequential()\n",
    "model.add(Embedding(vocab_size,10))\n",
    "model.compile('adam','mse')\n",
    "model.predict(embedded_sent)\n",
    "model.summary()"
   ]
  },
  {
   "cell_type": "code",
   "execution_count": 13,
   "id": "64609eba",
   "metadata": {},
   "outputs": [
    {
     "data": {
      "text/plain": [
       "array([  0,   0,   0,   0,   0,   0, 114, 890, 845, 183], dtype=int32)"
      ]
     },
     "execution_count": 13,
     "metadata": {},
     "output_type": "execute_result"
    }
   ],
   "source": [
    "embedded_sent[0]"
   ]
  },
  {
   "cell_type": "code",
   "execution_count": 15,
   "id": "193f754e",
   "metadata": {},
   "outputs": [
    {
     "name": "stdout",
     "output_type": "stream",
     "text": [
      "\u001b[1m1/1\u001b[0m \u001b[32m━━━━━━━━━━━━━━━━━━━━\u001b[0m\u001b[37m\u001b[0m \u001b[1m0s\u001b[0m 15ms/step\n",
      "[[-0.02693058 -0.01017566 -0.02716739 -0.02023875 -0.02587518 -0.04868777\n",
      "   0.04890567  0.01255431  0.03240842  0.03190248]\n",
      " [-0.02693058 -0.01017566 -0.02716739 -0.02023875 -0.02587518 -0.04868777\n",
      "   0.04890567  0.01255431  0.03240842  0.03190248]\n",
      " [-0.02693058 -0.01017566 -0.02716739 -0.02023875 -0.02587518 -0.04868777\n",
      "   0.04890567  0.01255431  0.03240842  0.03190248]\n",
      " [-0.02693058 -0.01017566 -0.02716739 -0.02023875 -0.02587518 -0.04868777\n",
      "   0.04890567  0.01255431  0.03240842  0.03190248]\n",
      " [-0.02693058 -0.01017566 -0.02716739 -0.02023875 -0.02587518 -0.04868777\n",
      "   0.04890567  0.01255431  0.03240842  0.03190248]\n",
      " [-0.02693058 -0.01017566 -0.02716739 -0.02023875 -0.02587518 -0.04868777\n",
      "   0.04890567  0.01255431  0.03240842  0.03190248]\n",
      " [ 0.00389416 -0.00519377 -0.00211708  0.0308172   0.02868145  0.00944606\n",
      "  -0.0264675  -0.03958523 -0.02259945  0.02815981]\n",
      " [ 0.03638849  0.0349456  -0.00924727 -0.01227726  0.01699087  0.04587675\n",
      "   0.04797776 -0.03291624 -0.02295241 -0.04347111]\n",
      " [-0.01352601  0.04154117  0.00589906 -0.01202409  0.03256347  0.02875853\n",
      "   0.01245915 -0.02979656  0.04671909  0.00923412]\n",
      " [ 0.01126816  0.02129981  0.01283978 -0.00407386  0.04653685 -0.02512331\n",
      "   0.0163486  -0.00792968  0.02849922  0.04256428]]\n"
     ]
    }
   ],
   "source": [
    "print(model.predict(embedded_sent)[0])"
   ]
  },
  {
   "cell_type": "code",
   "execution_count": null,
   "id": "e0c21b1b",
   "metadata": {},
   "outputs": [],
   "source": []
  },
  {
   "cell_type": "code",
   "execution_count": null,
   "id": "9dadc543",
   "metadata": {},
   "outputs": [],
   "source": []
  },
  {
   "cell_type": "code",
   "execution_count": null,
   "id": "561b8c3f",
   "metadata": {},
   "outputs": [],
   "source": []
  },
  {
   "cell_type": "code",
   "execution_count": null,
   "id": "b2821146",
   "metadata": {},
   "outputs": [],
   "source": []
  }
 ],
 "metadata": {
  "kernelspec": {
   "display_name": "Python 3 (ipykernel)",
   "language": "python",
   "name": "python3"
  },
  "language_info": {
   "codemirror_mode": {
    "name": "ipython",
    "version": 3
   },
   "file_extension": ".py",
   "mimetype": "text/x-python",
   "name": "python",
   "nbconvert_exporter": "python",
   "pygments_lexer": "ipython3",
   "version": "3.11.7"
  }
 },
 "nbformat": 4,
 "nbformat_minor": 5
}
